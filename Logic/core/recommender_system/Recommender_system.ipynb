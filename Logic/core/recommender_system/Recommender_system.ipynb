{
 "cells": [
  {
   "cell_type": "code",
   "metadata": {
    "colab": {
     "base_uri": "https://localhost:8080/"
    },
    "id": "5WP7WWcC71d0",
    "outputId": "5657cd83-924a-4cfd-f2b3-4087717dba0f",
    "ExecuteTime": {
     "end_time": "2024-06-29T12:37:22.063798Z",
     "start_time": "2024-06-29T12:37:22.059071Z"
    }
   },
   "source": [
    "# from google.colab import drive\n",
    "# drive.mount('/content/drive')"
   ],
   "outputs": [],
   "execution_count": 1
  },
  {
   "cell_type": "code",
   "metadata": {
    "id": "d7T_DzAQCiLr",
    "ExecuteTime": {
     "end_time": "2024-06-29T12:37:24.421859Z",
     "start_time": "2024-06-29T12:37:22.105334Z"
    }
   },
   "source": [
    "import pandas as pd\n",
    "\n",
    "ratings = pd.read_csv('ratings.csv', sep='\\t', encoding='latin-1',\n",
    "                      usecols=['user_id', 'movie_id', 'user_emb_id', 'movie_emb_id', 'rating'])\n",
    "\n",
    "movies = pd.read_csv('movies.csv', sep='\\t', encoding='latin-1',\n",
    "                     usecols=['movie_id', 'title', 'genres'])"
   ],
   "outputs": [],
   "execution_count": 2
  },
  {
   "cell_type": "code",
   "metadata": {
    "colab": {
     "base_uri": "https://localhost:8080/",
     "height": 206
    },
    "id": "XfuH9tB45bjb",
    "outputId": "9c664330-5775-4301-9025-626b40f89938",
    "ExecuteTime": {
     "end_time": "2024-06-29T12:37:24.436380Z",
     "start_time": "2024-06-29T12:37:24.421859Z"
    }
   },
   "source": "movies.head(5)",
   "outputs": [
    {
     "data": {
      "text/plain": [
       "   movie_id                               title                        genres\n",
       "0         1                    Toy Story (1995)   Animation|Children's|Comedy\n",
       "1         2                      Jumanji (1995)  Adventure|Children's|Fantasy\n",
       "2         3             Grumpier Old Men (1995)                Comedy|Romance\n",
       "3         4            Waiting to Exhale (1995)                  Comedy|Drama\n",
       "4         5  Father of the Bride Part II (1995)                        Comedy"
      ],
      "text/html": [
       "<div>\n",
       "<style scoped>\n",
       "    .dataframe tbody tr th:only-of-type {\n",
       "        vertical-align: middle;\n",
       "    }\n",
       "\n",
       "    .dataframe tbody tr th {\n",
       "        vertical-align: top;\n",
       "    }\n",
       "\n",
       "    .dataframe thead th {\n",
       "        text-align: right;\n",
       "    }\n",
       "</style>\n",
       "<table border=\"1\" class=\"dataframe\">\n",
       "  <thead>\n",
       "    <tr style=\"text-align: right;\">\n",
       "      <th></th>\n",
       "      <th>movie_id</th>\n",
       "      <th>title</th>\n",
       "      <th>genres</th>\n",
       "    </tr>\n",
       "  </thead>\n",
       "  <tbody>\n",
       "    <tr>\n",
       "      <th>0</th>\n",
       "      <td>1</td>\n",
       "      <td>Toy Story (1995)</td>\n",
       "      <td>Animation|Children's|Comedy</td>\n",
       "    </tr>\n",
       "    <tr>\n",
       "      <th>1</th>\n",
       "      <td>2</td>\n",
       "      <td>Jumanji (1995)</td>\n",
       "      <td>Adventure|Children's|Fantasy</td>\n",
       "    </tr>\n",
       "    <tr>\n",
       "      <th>2</th>\n",
       "      <td>3</td>\n",
       "      <td>Grumpier Old Men (1995)</td>\n",
       "      <td>Comedy|Romance</td>\n",
       "    </tr>\n",
       "    <tr>\n",
       "      <th>3</th>\n",
       "      <td>4</td>\n",
       "      <td>Waiting to Exhale (1995)</td>\n",
       "      <td>Comedy|Drama</td>\n",
       "    </tr>\n",
       "    <tr>\n",
       "      <th>4</th>\n",
       "      <td>5</td>\n",
       "      <td>Father of the Bride Part II (1995)</td>\n",
       "      <td>Comedy</td>\n",
       "    </tr>\n",
       "  </tbody>\n",
       "</table>\n",
       "</div>"
      ]
     },
     "execution_count": 3,
     "metadata": {},
     "output_type": "execute_result"
    }
   ],
   "execution_count": 3
  },
  {
   "cell_type": "code",
   "metadata": {
    "colab": {
     "base_uri": "https://localhost:8080/",
     "height": 206
    },
    "id": "AG7B-H2H4eKP",
    "outputId": "a9354bcd-bed5-44e0-f558-b2415e0e6011",
    "ExecuteTime": {
     "end_time": "2024-06-29T12:37:24.443838Z",
     "start_time": "2024-06-29T12:37:24.436380Z"
    }
   },
   "source": "ratings.head(5)",
   "outputs": [
    {
     "data": {
      "text/plain": [
       "   user_id  movie_id  rating  user_emb_id  movie_emb_id\n",
       "0        1      1193       5            0          1192\n",
       "1        1       661       3            0           660\n",
       "2        1       914       3            0           913\n",
       "3        1      3408       4            0          3407\n",
       "4        1      2355       5            0          2354"
      ],
      "text/html": [
       "<div>\n",
       "<style scoped>\n",
       "    .dataframe tbody tr th:only-of-type {\n",
       "        vertical-align: middle;\n",
       "    }\n",
       "\n",
       "    .dataframe tbody tr th {\n",
       "        vertical-align: top;\n",
       "    }\n",
       "\n",
       "    .dataframe thead th {\n",
       "        text-align: right;\n",
       "    }\n",
       "</style>\n",
       "<table border=\"1\" class=\"dataframe\">\n",
       "  <thead>\n",
       "    <tr style=\"text-align: right;\">\n",
       "      <th></th>\n",
       "      <th>user_id</th>\n",
       "      <th>movie_id</th>\n",
       "      <th>rating</th>\n",
       "      <th>user_emb_id</th>\n",
       "      <th>movie_emb_id</th>\n",
       "    </tr>\n",
       "  </thead>\n",
       "  <tbody>\n",
       "    <tr>\n",
       "      <th>0</th>\n",
       "      <td>1</td>\n",
       "      <td>1193</td>\n",
       "      <td>5</td>\n",
       "      <td>0</td>\n",
       "      <td>1192</td>\n",
       "    </tr>\n",
       "    <tr>\n",
       "      <th>1</th>\n",
       "      <td>1</td>\n",
       "      <td>661</td>\n",
       "      <td>3</td>\n",
       "      <td>0</td>\n",
       "      <td>660</td>\n",
       "    </tr>\n",
       "    <tr>\n",
       "      <th>2</th>\n",
       "      <td>1</td>\n",
       "      <td>914</td>\n",
       "      <td>3</td>\n",
       "      <td>0</td>\n",
       "      <td>913</td>\n",
       "    </tr>\n",
       "    <tr>\n",
       "      <th>3</th>\n",
       "      <td>1</td>\n",
       "      <td>3408</td>\n",
       "      <td>4</td>\n",
       "      <td>0</td>\n",
       "      <td>3407</td>\n",
       "    </tr>\n",
       "    <tr>\n",
       "      <th>4</th>\n",
       "      <td>1</td>\n",
       "      <td>2355</td>\n",
       "      <td>5</td>\n",
       "      <td>0</td>\n",
       "      <td>2354</td>\n",
       "    </tr>\n",
       "  </tbody>\n",
       "</table>\n",
       "</div>"
      ]
     },
     "execution_count": 4,
     "metadata": {},
     "output_type": "execute_result"
    }
   ],
   "execution_count": 4
  },
  {
   "cell_type": "markdown",
   "metadata": {
    "id": "VszS9wr3tr-1"
   },
   "source": [
    "### Content Based\n",
    "\n",
    "**Objective**: Build a Content-Based Recommendation system that computes similarity between movies based on movie genres. It will suggest movies that are most similar to a particular movie based on its genre.\n",
    "\n",
    "**Dataset**:\n",
    "- **Movies Data**: DataFrame with columns `movie_id`, `title`, and `genres`.\n",
    "\n",
    "**Steps**:\n",
    "\n",
    "1. **Preprocess Data**:\n",
    "   - Split the `genres` column into separate genre strings.\n",
    "   - Fill any missing values in the `genres` column and convert it to string.\n",
    "\n",
    "2. **Compute TF-IDF Matrix**:\n",
    "   - Use `TfidfVectorizer` to transform the genres into a TF-IDF matrix.\n",
    "\n",
    "3. **Calculate Cosine Similarity**:\n",
    "   - Compute cosine similarity between the TF-IDF matrices of movies.\n",
    "\n",
    "4. **Recommend Movies**:\n",
    "   - Create a function that gets movie recommendations based on the cosine similarity score of movie genres."
   ]
  },
  {
   "cell_type": "code",
   "metadata": {
    "id": "H7yBCgOcLHdA",
    "ExecuteTime": {
     "end_time": "2024-06-29T12:37:24.457615Z",
     "start_time": "2024-06-29T12:37:24.445837Z"
    }
   },
   "source": [
    "movies['genres'] = movies['genres'].str.split('|')\n",
    "movies['genres'] = movies['genres'].fillna(\"\").astype('str')"
   ],
   "outputs": [],
   "execution_count": 5
  },
  {
   "metadata": {
    "ExecuteTime": {
     "end_time": "2024-06-29T12:37:24.466435Z",
     "start_time": "2024-06-29T12:37:24.458739Z"
    }
   },
   "cell_type": "code",
   "source": "movies.head()",
   "outputs": [
    {
     "data": {
      "text/plain": [
       "   movie_id                               title  \\\n",
       "0         1                    Toy Story (1995)   \n",
       "1         2                      Jumanji (1995)   \n",
       "2         3             Grumpier Old Men (1995)   \n",
       "3         4            Waiting to Exhale (1995)   \n",
       "4         5  Father of the Bride Part II (1995)   \n",
       "\n",
       "                                   genres  \n",
       "0   ['Animation', \"Children's\", 'Comedy']  \n",
       "1  ['Adventure', \"Children's\", 'Fantasy']  \n",
       "2                   ['Comedy', 'Romance']  \n",
       "3                     ['Comedy', 'Drama']  \n",
       "4                              ['Comedy']  "
      ],
      "text/html": [
       "<div>\n",
       "<style scoped>\n",
       "    .dataframe tbody tr th:only-of-type {\n",
       "        vertical-align: middle;\n",
       "    }\n",
       "\n",
       "    .dataframe tbody tr th {\n",
       "        vertical-align: top;\n",
       "    }\n",
       "\n",
       "    .dataframe thead th {\n",
       "        text-align: right;\n",
       "    }\n",
       "</style>\n",
       "<table border=\"1\" class=\"dataframe\">\n",
       "  <thead>\n",
       "    <tr style=\"text-align: right;\">\n",
       "      <th></th>\n",
       "      <th>movie_id</th>\n",
       "      <th>title</th>\n",
       "      <th>genres</th>\n",
       "    </tr>\n",
       "  </thead>\n",
       "  <tbody>\n",
       "    <tr>\n",
       "      <th>0</th>\n",
       "      <td>1</td>\n",
       "      <td>Toy Story (1995)</td>\n",
       "      <td>['Animation', \"Children's\", 'Comedy']</td>\n",
       "    </tr>\n",
       "    <tr>\n",
       "      <th>1</th>\n",
       "      <td>2</td>\n",
       "      <td>Jumanji (1995)</td>\n",
       "      <td>['Adventure', \"Children's\", 'Fantasy']</td>\n",
       "    </tr>\n",
       "    <tr>\n",
       "      <th>2</th>\n",
       "      <td>3</td>\n",
       "      <td>Grumpier Old Men (1995)</td>\n",
       "      <td>['Comedy', 'Romance']</td>\n",
       "    </tr>\n",
       "    <tr>\n",
       "      <th>3</th>\n",
       "      <td>4</td>\n",
       "      <td>Waiting to Exhale (1995)</td>\n",
       "      <td>['Comedy', 'Drama']</td>\n",
       "    </tr>\n",
       "    <tr>\n",
       "      <th>4</th>\n",
       "      <td>5</td>\n",
       "      <td>Father of the Bride Part II (1995)</td>\n",
       "      <td>['Comedy']</td>\n",
       "    </tr>\n",
       "  </tbody>\n",
       "</table>\n",
       "</div>"
      ]
     },
     "execution_count": 6,
     "metadata": {},
     "output_type": "execute_result"
    }
   ],
   "execution_count": 6
  },
  {
   "cell_type": "code",
   "metadata": {
    "id": "mMRR5ZWCLIKW",
    "ExecuteTime": {
     "end_time": "2024-06-29T12:37:27.147701Z",
     "start_time": "2024-06-29T12:37:24.468478Z"
    }
   },
   "source": [
    "from sklearn.feature_extraction.text import TfidfVectorizer\n",
    "\n",
    "tf = TfidfVectorizer(analyzer='word', ngram_range=(1, 2), min_df=0.0, stop_words='english')\n",
    "tfidf_matrix = tf.fit_transform(movies['genres'])"
   ],
   "outputs": [],
   "execution_count": 7
  },
  {
   "cell_type": "code",
   "metadata": {
    "id": "z5ZkCc3ZLKMW",
    "ExecuteTime": {
     "end_time": "2024-06-29T12:37:27.561512Z",
     "start_time": "2024-06-29T12:37:27.148706Z"
    }
   },
   "source": [
    "from sklearn.metrics.pairwise import linear_kernel\n",
    "\n",
    "cosine_sim = linear_kernel(tfidf_matrix, tfidf_matrix)"
   ],
   "outputs": [],
   "execution_count": 8
  },
  {
   "cell_type": "code",
   "metadata": {
    "id": "SuZyCCz-vXz5",
    "ExecuteTime": {
     "end_time": "2024-06-29T12:37:27.568031Z",
     "start_time": "2024-06-29T12:37:27.562513Z"
    }
   },
   "source": [
    "def genre_recommendations(title, n=10):\n",
    "    #TODO\n",
    "    movie = movies[movies['title'] == title]\n",
    "    if movie.empty: return \"No Movies\"\n",
    "    sim_scores = list(enumerate(cosine_sim[movie.index[0]]))\n",
    "    sim_scores.sort(key=lambda x: x[1], reverse=True)\n",
    "    return movies['title'].iloc[[i[0] for i in sim_scores[1:n + 1]]]\n"
   ],
   "outputs": [],
   "execution_count": 9
  },
  {
   "cell_type": "code",
   "metadata": {
    "colab": {
     "base_uri": "https://localhost:8080/"
    },
    "id": "V2Nztyl3vYkd",
    "outputId": "86cba97f-2803-4493-8b4b-fbfa3d62be3c",
    "ExecuteTime": {
     "end_time": "2024-06-29T12:37:27.580548Z",
     "start_time": "2024-06-29T12:37:27.569256Z"
    }
   },
   "source": [
    "# Example\n",
    "genre_recommendations('GoldenEye (1995)')\n",
    "#genre_recommendations('something_wrong (1995)')"
   ],
   "outputs": [
    {
     "data": {
      "text/plain": [
       "345     Clear and Present Danger (1994)\n",
       "543           Surviving the Game (1994)\n",
       "724                    Rock, The (1996)\n",
       "788                     Daylight (1996)\n",
       "825               Chain Reaction (1996)\n",
       "978                 Maximum Risk (1996)\n",
       "1467                    Anaconda (1997)\n",
       "1513                     Con Air (1997)\n",
       "1693                   Firestorm (1998)\n",
       "3686          Perfect Storm, The (2000)\n",
       "Name: title, dtype: object"
      ]
     },
     "execution_count": 10,
     "metadata": {},
     "output_type": "execute_result"
    }
   ],
   "execution_count": 10
  },
  {
   "cell_type": "markdown",
   "metadata": {
    "id": "fzAN3JRjQLir"
   },
   "source": [
    "\n",
    "### Collaborative Filtering\n",
    "\n",
    "**Objective**: Implement a collaborative filtering movie recommendation system to recommend movies to a user based on similar users' spreferences.\n",
    "\n",
    "**Dataset**:\n",
    "\n",
    "- **Ratings Data**: DataFrame with columns `user_id`, `movie_id`, and `rating`.\n",
    "- **Movies Data**: DataFrame with columns `movie_id`, `title`, and `genres`.\n",
    "\n",
    "**Steps**:\n",
    "\n",
    "1. **Preprocess Data**:\n",
    "   - Merge `ratings` and `movies` DataFrames on `movie_id`.\n",
    "   - Split `genres` column into separate rows.\n",
    "\n",
    "2. **Create User-Genre Matrix**:\n",
    "   - Create a matrix where rows are users and columns are genres.\n",
    "   - Each cell represents the ratio of movies watched by the user in that genre to the total movies watched by the user.\n",
    "\n",
    "3. **Calculate User Similarity**:\n",
    "   - Use cosine similarity to calculate the similarity between users.\n",
    "\n",
    "4. **Find Top N Similar Users**:\n",
    "   - Find the top N users with the most similar preferences to the given user.\n",
    "\n",
    "5. **Recommend Movies**:\n",
    "   - Recommend movies that similar users have watched but the target user has not.\n",
    "   - Return titles and genres of the top 10 recommended movies."
   ]
  },
  {
   "cell_type": "code",
   "metadata": {
    "id": "F7OCOj_cLaZD",
    "ExecuteTime": {
     "end_time": "2024-06-29T12:37:27.585600Z",
     "start_time": "2024-06-29T12:37:27.582561Z"
    }
   },
   "source": [
    "import pandas as pd\n",
    "import numpy as np\n",
    "from sklearn.metrics.pairwise import cosine_similarity"
   ],
   "outputs": [],
   "execution_count": 11
  },
  {
   "cell_type": "code",
   "metadata": {
    "id": "i4yACSHKLa3B",
    "ExecuteTime": {
     "end_time": "2024-06-29T12:37:27.702902Z",
     "start_time": "2024-06-29T12:37:27.585600Z"
    }
   },
   "source": [
    "data = pd.merge(ratings, movies, on='movie_id')"
   ],
   "outputs": [],
   "execution_count": 12
  },
  {
   "cell_type": "code",
   "metadata": {
    "id": "4UYm-ewOMbsV",
    "ExecuteTime": {
     "end_time": "2024-06-29T12:37:27.709935Z",
     "start_time": "2024-06-29T12:37:27.702902Z"
    }
   },
   "source": "data.head(5)",
   "outputs": [
    {
     "data": {
      "text/plain": [
       "   user_id  movie_id  rating  user_emb_id  movie_emb_id  \\\n",
       "0        1      1193       5            0          1192   \n",
       "1        1       661       3            0           660   \n",
       "2        1       914       3            0           913   \n",
       "3        1      3408       4            0          3407   \n",
       "4        1      2355       5            0          2354   \n",
       "\n",
       "                                    title  \\\n",
       "0  One Flew Over the Cuckoo's Nest (1975)   \n",
       "1        James and the Giant Peach (1996)   \n",
       "2                     My Fair Lady (1964)   \n",
       "3                  Erin Brockovich (2000)   \n",
       "4                    Bug's Life, A (1998)   \n",
       "\n",
       "                                   genres  \n",
       "0                               ['Drama']  \n",
       "1  ['Animation', \"Children's\", 'Musical']  \n",
       "2                  ['Musical', 'Romance']  \n",
       "3                               ['Drama']  \n",
       "4   ['Animation', \"Children's\", 'Comedy']  "
      ],
      "text/html": [
       "<div>\n",
       "<style scoped>\n",
       "    .dataframe tbody tr th:only-of-type {\n",
       "        vertical-align: middle;\n",
       "    }\n",
       "\n",
       "    .dataframe tbody tr th {\n",
       "        vertical-align: top;\n",
       "    }\n",
       "\n",
       "    .dataframe thead th {\n",
       "        text-align: right;\n",
       "    }\n",
       "</style>\n",
       "<table border=\"1\" class=\"dataframe\">\n",
       "  <thead>\n",
       "    <tr style=\"text-align: right;\">\n",
       "      <th></th>\n",
       "      <th>user_id</th>\n",
       "      <th>movie_id</th>\n",
       "      <th>rating</th>\n",
       "      <th>user_emb_id</th>\n",
       "      <th>movie_emb_id</th>\n",
       "      <th>title</th>\n",
       "      <th>genres</th>\n",
       "    </tr>\n",
       "  </thead>\n",
       "  <tbody>\n",
       "    <tr>\n",
       "      <th>0</th>\n",
       "      <td>1</td>\n",
       "      <td>1193</td>\n",
       "      <td>5</td>\n",
       "      <td>0</td>\n",
       "      <td>1192</td>\n",
       "      <td>One Flew Over the Cuckoo's Nest (1975)</td>\n",
       "      <td>['Drama']</td>\n",
       "    </tr>\n",
       "    <tr>\n",
       "      <th>1</th>\n",
       "      <td>1</td>\n",
       "      <td>661</td>\n",
       "      <td>3</td>\n",
       "      <td>0</td>\n",
       "      <td>660</td>\n",
       "      <td>James and the Giant Peach (1996)</td>\n",
       "      <td>['Animation', \"Children's\", 'Musical']</td>\n",
       "    </tr>\n",
       "    <tr>\n",
       "      <th>2</th>\n",
       "      <td>1</td>\n",
       "      <td>914</td>\n",
       "      <td>3</td>\n",
       "      <td>0</td>\n",
       "      <td>913</td>\n",
       "      <td>My Fair Lady (1964)</td>\n",
       "      <td>['Musical', 'Romance']</td>\n",
       "    </tr>\n",
       "    <tr>\n",
       "      <th>3</th>\n",
       "      <td>1</td>\n",
       "      <td>3408</td>\n",
       "      <td>4</td>\n",
       "      <td>0</td>\n",
       "      <td>3407</td>\n",
       "      <td>Erin Brockovich (2000)</td>\n",
       "      <td>['Drama']</td>\n",
       "    </tr>\n",
       "    <tr>\n",
       "      <th>4</th>\n",
       "      <td>1</td>\n",
       "      <td>2355</td>\n",
       "      <td>5</td>\n",
       "      <td>0</td>\n",
       "      <td>2354</td>\n",
       "      <td>Bug's Life, A (1998)</td>\n",
       "      <td>['Animation', \"Children's\", 'Comedy']</td>\n",
       "    </tr>\n",
       "  </tbody>\n",
       "</table>\n",
       "</div>"
      ]
     },
     "execution_count": 13,
     "metadata": {},
     "output_type": "execute_result"
    }
   ],
   "execution_count": 13
  },
  {
   "cell_type": "code",
   "metadata": {
    "id": "pm-nVWN9MdcJ",
    "ExecuteTime": {
     "end_time": "2024-06-29T12:37:27.921823Z",
     "start_time": "2024-06-29T12:37:27.710934Z"
    }
   },
   "source": [
    "data = data.explode('genres').reset_index(drop=True)\n",
    "# this part seems to not do its job if i understand correctly but i couldn't fix it "
   ],
   "outputs": [],
   "execution_count": 14
  },
  {
   "cell_type": "code",
   "metadata": {
    "id": "PmJJkBHqMfmx",
    "ExecuteTime": {
     "end_time": "2024-06-29T12:37:27.932281Z",
     "start_time": "2024-06-29T12:37:27.921823Z"
    }
   },
   "source": "data.head(5)",
   "outputs": [
    {
     "data": {
      "text/plain": [
       "   user_id  movie_id  rating  user_emb_id  movie_emb_id  \\\n",
       "0        1      1193       5            0          1192   \n",
       "1        1       661       3            0           660   \n",
       "2        1       914       3            0           913   \n",
       "3        1      3408       4            0          3407   \n",
       "4        1      2355       5            0          2354   \n",
       "\n",
       "                                    title  \\\n",
       "0  One Flew Over the Cuckoo's Nest (1975)   \n",
       "1        James and the Giant Peach (1996)   \n",
       "2                     My Fair Lady (1964)   \n",
       "3                  Erin Brockovich (2000)   \n",
       "4                    Bug's Life, A (1998)   \n",
       "\n",
       "                                   genres  \n",
       "0                               ['Drama']  \n",
       "1  ['Animation', \"Children's\", 'Musical']  \n",
       "2                  ['Musical', 'Romance']  \n",
       "3                               ['Drama']  \n",
       "4   ['Animation', \"Children's\", 'Comedy']  "
      ],
      "text/html": [
       "<div>\n",
       "<style scoped>\n",
       "    .dataframe tbody tr th:only-of-type {\n",
       "        vertical-align: middle;\n",
       "    }\n",
       "\n",
       "    .dataframe tbody tr th {\n",
       "        vertical-align: top;\n",
       "    }\n",
       "\n",
       "    .dataframe thead th {\n",
       "        text-align: right;\n",
       "    }\n",
       "</style>\n",
       "<table border=\"1\" class=\"dataframe\">\n",
       "  <thead>\n",
       "    <tr style=\"text-align: right;\">\n",
       "      <th></th>\n",
       "      <th>user_id</th>\n",
       "      <th>movie_id</th>\n",
       "      <th>rating</th>\n",
       "      <th>user_emb_id</th>\n",
       "      <th>movie_emb_id</th>\n",
       "      <th>title</th>\n",
       "      <th>genres</th>\n",
       "    </tr>\n",
       "  </thead>\n",
       "  <tbody>\n",
       "    <tr>\n",
       "      <th>0</th>\n",
       "      <td>1</td>\n",
       "      <td>1193</td>\n",
       "      <td>5</td>\n",
       "      <td>0</td>\n",
       "      <td>1192</td>\n",
       "      <td>One Flew Over the Cuckoo's Nest (1975)</td>\n",
       "      <td>['Drama']</td>\n",
       "    </tr>\n",
       "    <tr>\n",
       "      <th>1</th>\n",
       "      <td>1</td>\n",
       "      <td>661</td>\n",
       "      <td>3</td>\n",
       "      <td>0</td>\n",
       "      <td>660</td>\n",
       "      <td>James and the Giant Peach (1996)</td>\n",
       "      <td>['Animation', \"Children's\", 'Musical']</td>\n",
       "    </tr>\n",
       "    <tr>\n",
       "      <th>2</th>\n",
       "      <td>1</td>\n",
       "      <td>914</td>\n",
       "      <td>3</td>\n",
       "      <td>0</td>\n",
       "      <td>913</td>\n",
       "      <td>My Fair Lady (1964)</td>\n",
       "      <td>['Musical', 'Romance']</td>\n",
       "    </tr>\n",
       "    <tr>\n",
       "      <th>3</th>\n",
       "      <td>1</td>\n",
       "      <td>3408</td>\n",
       "      <td>4</td>\n",
       "      <td>0</td>\n",
       "      <td>3407</td>\n",
       "      <td>Erin Brockovich (2000)</td>\n",
       "      <td>['Drama']</td>\n",
       "    </tr>\n",
       "    <tr>\n",
       "      <th>4</th>\n",
       "      <td>1</td>\n",
       "      <td>2355</td>\n",
       "      <td>5</td>\n",
       "      <td>0</td>\n",
       "      <td>2354</td>\n",
       "      <td>Bug's Life, A (1998)</td>\n",
       "      <td>['Animation', \"Children's\", 'Comedy']</td>\n",
       "    </tr>\n",
       "  </tbody>\n",
       "</table>\n",
       "</div>"
      ]
     },
     "execution_count": 15,
     "metadata": {},
     "output_type": "execute_result"
    }
   ],
   "execution_count": 15
  },
  {
   "metadata": {
    "ExecuteTime": {
     "end_time": "2024-06-29T12:37:29.147565Z",
     "start_time": "2024-06-29T12:37:27.933686Z"
    }
   },
   "cell_type": "code",
   "source": [
    "# pre process \n",
    "user_genre = data.pivot_table(index='user_id', columns='genres', values='rating', aggfunc='mean').fillna(0)\n",
    "\n",
    "user_sim = pd.DataFrame(cosine_similarity(user_genre, user_genre), columns=user_genre.index, index=user_genre.index)\n",
    "\n",
    "#user_sim.head(5)"
   ],
   "outputs": [],
   "execution_count": 16
  },
  {
   "metadata": {
    "ExecuteTime": {
     "end_time": "2024-06-29T12:37:29.153451Z",
     "start_time": "2024-06-29T12:37:29.148926Z"
    }
   },
   "cell_type": "code",
   "source": "user_sim.shape",
   "outputs": [
    {
     "data": {
      "text/plain": [
       "(6040, 6040)"
      ]
     },
     "execution_count": 17,
     "metadata": {},
     "output_type": "execute_result"
    }
   ],
   "execution_count": 17
  },
  {
   "cell_type": "code",
   "metadata": {
    "id": "kKDRWOLQdYYo",
    "ExecuteTime": {
     "end_time": "2024-06-29T12:37:29.157958Z",
     "start_time": "2024-06-29T12:37:29.154481Z"
    }
   },
   "source": [
    "def get_top_n_similar_users(user_id, n=5):\n",
    "    #TODO\n",
    "    return user_sim.loc[user_id].drop(user_id).sort_values(ascending=False)[\n",
    "           0:n].index if user_id in user_sim.index else []"
   ],
   "outputs": [],
   "execution_count": 18
  },
  {
   "cell_type": "code",
   "metadata": {
    "id": "AFfL391uddRd",
    "ExecuteTime": {
     "end_time": "2024-06-29T12:37:29.163021Z",
     "start_time": "2024-06-29T12:37:29.158966Z"
    }
   },
   "source": [
    "def recommend_movies(user_id, n_similar_users=5, n_recommendations=10):\n",
    "    #TODO\n",
    "    friends = get_top_n_similar_users(user_id, n=n_similar_users)\n",
    "    recommend = []\n",
    "    if len(friends) != 0:\n",
    "        seen_movies = data[data['user_id'] == user_id]['movie_id'].tolist()\n",
    "        friends_rating = data[data['user_id'].isin(friends)]\n",
    "\n",
    "        filtered_friends_rating = friends_rating[~friends_rating['movie_id'].isin(seen_movies)]\n",
    "\n",
    "        scoring_movies = filtered_friends_rating.groupby('movie_id')['rating'].mean()\n",
    "        high_score_movies = scoring_movies.nlargest(n_recommendations).index\n",
    "        # high_score_movies = scoring_movies.sort_values(ascending=False)[0:n_recommendations].index\n",
    "\n",
    "        recommend = movies[movies['movie_id'].isin(high_score_movies)][['title', 'genres']]\n",
    "\n",
    "    return recommend"
   ],
   "outputs": [],
   "execution_count": 19
  },
  {
   "cell_type": "code",
   "metadata": {
    "id": "jrw5w4ZGdgmz",
    "ExecuteTime": {
     "end_time": "2024-06-29T12:37:29.188880Z",
     "start_time": "2024-06-29T12:37:29.164026Z"
    }
   },
   "source": [
    "# Example\n",
    "user_id = 1\n",
    "recommended_movies = recommend_movies(user_id, n_similar_users=5, n_recommendations=10)"
   ],
   "outputs": [],
   "execution_count": 20
  },
  {
   "cell_type": "code",
   "metadata": {
    "colab": {
     "base_uri": "https://localhost:8080/",
     "height": 359
    },
    "id": "7pwe2K5Ndm9a",
    "outputId": "92c21630-cdf2-4faa-87e8-f5c21c7f10f4",
    "ExecuteTime": {
     "end_time": "2024-06-29T12:37:29.194790Z",
     "start_time": "2024-06-29T12:37:29.189886Z"
    }
   },
   "source": [
    "recommended_movies"
   ],
   "outputs": [
    {
     "data": {
      "text/plain": [
       "                           title                             genres\n",
       "61     Mr. Holland's Opus (1995)                          ['Drama']\n",
       "108            Braveheart (1995)         ['Action', 'Drama', 'War']\n",
       "258          Little Women (1994)                          ['Drama']\n",
       "293          Pulp Fiction (1994)                 ['Crime', 'Drama']\n",
       "535  Sleepless in Seattle (1993)              ['Comedy', 'Romance']\n",
       "586    Dances with Wolves (1990)  ['Adventure', 'Drama', 'Western']\n",
       "592             Pinocchio (1940)        ['Animation', \"Children's\"]\n",
       "887   Singin' in the Rain (1952)             ['Musical', 'Romance']\n",
       "898      Some Like It Hot (1959)                ['Comedy', 'Crime']\n",
       "906  Meet Me in St. Louis (1944)                        ['Musical']"
      ],
      "text/html": [
       "<div>\n",
       "<style scoped>\n",
       "    .dataframe tbody tr th:only-of-type {\n",
       "        vertical-align: middle;\n",
       "    }\n",
       "\n",
       "    .dataframe tbody tr th {\n",
       "        vertical-align: top;\n",
       "    }\n",
       "\n",
       "    .dataframe thead th {\n",
       "        text-align: right;\n",
       "    }\n",
       "</style>\n",
       "<table border=\"1\" class=\"dataframe\">\n",
       "  <thead>\n",
       "    <tr style=\"text-align: right;\">\n",
       "      <th></th>\n",
       "      <th>title</th>\n",
       "      <th>genres</th>\n",
       "    </tr>\n",
       "  </thead>\n",
       "  <tbody>\n",
       "    <tr>\n",
       "      <th>61</th>\n",
       "      <td>Mr. Holland's Opus (1995)</td>\n",
       "      <td>['Drama']</td>\n",
       "    </tr>\n",
       "    <tr>\n",
       "      <th>108</th>\n",
       "      <td>Braveheart (1995)</td>\n",
       "      <td>['Action', 'Drama', 'War']</td>\n",
       "    </tr>\n",
       "    <tr>\n",
       "      <th>258</th>\n",
       "      <td>Little Women (1994)</td>\n",
       "      <td>['Drama']</td>\n",
       "    </tr>\n",
       "    <tr>\n",
       "      <th>293</th>\n",
       "      <td>Pulp Fiction (1994)</td>\n",
       "      <td>['Crime', 'Drama']</td>\n",
       "    </tr>\n",
       "    <tr>\n",
       "      <th>535</th>\n",
       "      <td>Sleepless in Seattle (1993)</td>\n",
       "      <td>['Comedy', 'Romance']</td>\n",
       "    </tr>\n",
       "    <tr>\n",
       "      <th>586</th>\n",
       "      <td>Dances with Wolves (1990)</td>\n",
       "      <td>['Adventure', 'Drama', 'Western']</td>\n",
       "    </tr>\n",
       "    <tr>\n",
       "      <th>592</th>\n",
       "      <td>Pinocchio (1940)</td>\n",
       "      <td>['Animation', \"Children's\"]</td>\n",
       "    </tr>\n",
       "    <tr>\n",
       "      <th>887</th>\n",
       "      <td>Singin' in the Rain (1952)</td>\n",
       "      <td>['Musical', 'Romance']</td>\n",
       "    </tr>\n",
       "    <tr>\n",
       "      <th>898</th>\n",
       "      <td>Some Like It Hot (1959)</td>\n",
       "      <td>['Comedy', 'Crime']</td>\n",
       "    </tr>\n",
       "    <tr>\n",
       "      <th>906</th>\n",
       "      <td>Meet Me in St. Louis (1944)</td>\n",
       "      <td>['Musical']</td>\n",
       "    </tr>\n",
       "  </tbody>\n",
       "</table>\n",
       "</div>"
      ]
     },
     "execution_count": 21,
     "metadata": {},
     "output_type": "execute_result"
    }
   ],
   "execution_count": 21
  },
  {
   "cell_type": "markdown",
   "metadata": {
    "id": "F8rQ5EfYyxHe"
   },
   "source": [
    "### SVD (Singular Value Decomposition)\n",
    "\n"
   ]
  },
  {
   "cell_type": "markdown",
   "metadata": {
    "id": "rg58Uuv43VHl"
   },
   "source": [
    "**Objective**: Implement an SVD-based recommendation system to recommend movies to users by decomposing the user-item interaction matrix into latent factors.\n",
    "\n",
    "**Dataset**:\n",
    "- **Ratings Data**: DataFrame with columns `user_id`, `movie_id`, and `rating`.\n",
    "- **Movies Data**: DataFrame with columns `movie_id`, `title`, and `genres`.\n",
    "\n",
    "**Steps**:\n",
    "\n",
    "1. **Preprocess Data**:\n",
    "   - Merge `ratings` and `movies` DataFrames on `movie_id`.\n",
    "   - Create a user-item matrix where rows represent users, columns represent movies, and the values are the ratings.\n",
    "\n",
    "2. **Decompose Matrix using SVD**:\n",
    "   - Apply Singular Value Decomposition (SVD) to decompose the user-item matrix into three matrices: $U$, $\\Sigma$, and $V^T$.\n",
    "\n",
    "3. **Reconstruct Matrix**:\n",
    "   - Reconstruct the user-item matrix using the top $k$ singular values to reduce dimensionality.\n",
    "\n",
    "4. **Predict Ratings**:\n",
    "   - Use the reconstructed matrix to predict ratings for all user-item pairs.\n",
    "\n",
    "5. **Recommend Movies**:\n",
    "   - Recommend the top 20 movies with the highest predicted ratings for a given user that the user hasn't rated yet."
   ]
  },
  {
   "cell_type": "code",
   "metadata": {
    "id": "cR6nM0Xh9-RU",
    "ExecuteTime": {
     "end_time": "2024-06-29T12:37:29.215232Z",
     "start_time": "2024-06-29T12:37:29.195798Z"
    }
   },
   "source": [
    "n_users = ratings.user_id.unique().shape[0]\n",
    "n_movies = ratings.movie_id.unique().shape[0]\n",
    "print('Number of users = ' + str(n_users) + ' | Number of movies = ' + str(n_movies))"
   ],
   "outputs": [
    {
     "name": "stdout",
     "output_type": "stream",
     "text": [
      "Number of users = 6040 | Number of movies = 3706\n"
     ]
    }
   ],
   "execution_count": 22
  },
  {
   "cell_type": "markdown",
   "metadata": {
    "id": "AejbQ3PmSaPk"
   },
   "source": [
    "Fill na elements."
   ]
  },
  {
   "cell_type": "code",
   "metadata": {
    "id": "0gXWDE2b-SjD",
    "ExecuteTime": {
     "end_time": "2024-06-29T12:37:29.710296Z",
     "start_time": "2024-06-29T12:37:29.216236Z"
    }
   },
   "source": [
    "Ratings = ratings.pivot(index='user_id', columns='movie_id', values='rating').fillna(0)\n",
    "#Ratings.head()\n",
    "Ratings.shape"
   ],
   "outputs": [
    {
     "data": {
      "text/plain": [
       "(6040, 3706)"
      ]
     },
     "execution_count": 23,
     "metadata": {},
     "output_type": "execute_result"
    }
   ],
   "execution_count": 23
  },
  {
   "metadata": {
    "ExecuteTime": {
     "end_time": "2024-06-29T12:37:29.715076Z",
     "start_time": "2024-06-29T12:37:29.712293Z"
    }
   },
   "cell_type": "code",
   "source": [
    "def normalize(matrix, mean):\n",
    "    return matrix - mean.reshape(-1, 1)"
   ],
   "outputs": [],
   "execution_count": 24
  },
  {
   "cell_type": "code",
   "metadata": {
    "id": "Ue3HMeeX-XVz",
    "ExecuteTime": {
     "end_time": "2024-06-29T12:37:29.748866Z",
     "start_time": "2024-06-29T12:37:29.716076Z"
    }
   },
   "source": [
    "# calculate rating matrix ::: code was written \n",
    "# just in case ->\n",
    "Ratings_df = Ratings\n",
    "Ratings = Ratings.values\n",
    "mean = np.mean(Ratings, axis=1)\n",
    "# Ratings = normalize(Ratings, mean)"
   ],
   "outputs": [],
   "execution_count": 25
  },
  {
   "cell_type": "code",
   "metadata": {
    "id": "Cto_bTMN08Uu",
    "ExecuteTime": {
     "end_time": "2024-06-29T12:37:39.379989Z",
     "start_time": "2024-06-29T12:37:29.749866Z"
    }
   },
   "source": [
    "from scipy.sparse.linalg import svds\n",
    "\n",
    "U, sigma, Vt = svds(Ratings, k=100)  # TODO\n",
    "sigma = np.diag(sigma)"
   ],
   "outputs": [],
   "execution_count": 26
  },
  {
   "cell_type": "code",
   "metadata": {
    "id": "lEdVW5cG-8CM",
    "ExecuteTime": {
     "end_time": "2024-06-29T12:37:39.503070Z",
     "start_time": "2024-06-29T12:37:39.380996Z"
    }
   },
   "source": [
    "all_user_predicted_ratings = (U @ sigma) @ Vt  # TODO\n",
    "#all_user_predicted_ratings =  (U @ sigma) @ Vt + mean.reshape(-1, 1)# TODO"
   ],
   "outputs": [],
   "execution_count": 27
  },
  {
   "cell_type": "code",
   "metadata": {
    "colab": {
     "base_uri": "https://localhost:8080/",
     "height": 255
    },
    "id": "QEiw1_bA_AUT",
    "outputId": "7bbc6752-1c64-44eb-8056-933b5e313ca9",
    "ExecuteTime": {
     "end_time": "2024-06-29T12:37:39.506582Z",
     "start_time": "2024-06-29T12:37:39.503070Z"
    }
   },
   "source": [
    "preds = pd.DataFrame(all_user_predicted_ratings, columns=Ratings_df.columns)\n",
    "\n",
    "#preds.head()"
   ],
   "outputs": [],
   "execution_count": 28
  },
  {
   "cell_type": "code",
   "metadata": {
    "id": "tGNw2vZe_Hnb",
    "ExecuteTime": {
     "end_time": "2024-06-29T12:37:39.514288Z",
     "start_time": "2024-06-29T12:37:39.508800Z"
    }
   },
   "source": [
    "def recommend_movies(predictions, userID, movies, original_ratings, num_recommendations):\n",
    "    user_row_number = userID - 1  # User ID starts at 1, not 0\n",
    "\n",
    "    # TODO\n",
    "    sorted_user_predictions = predictions.iloc[user_row_number].sort_values(ascending=False)\n",
    "\n",
    "    # TODO\n",
    "    user_data = original_ratings[original_ratings.user_id == (userID)]\n",
    "\n",
    "    # merge movies data with user_data\n",
    "    # TODO\n",
    "    user_full = user_data.merge(movies, left_on='movie_id', right_on='movie_id', how='left').sort_values(['rating'],\n",
    "                                                                                                         ascending=False)\n",
    "\n",
    "    print(f'User {userID} has already rated {user_full.shape[0]} movies.')\n",
    "    print(f'Recommending highest {num_recommendations} predicted ratings movies not already rated.')\n",
    "\n",
    "    # TODO\n",
    "    not_rated = movies[~movies['movie_id'].isin(user_full['movie_id'])]\n",
    "    user_preds = pd.DataFrame(sorted_user_predictions).reset_index()\n",
    "    recommendations = not_rated.merge(user_preds,\n",
    "                                      how='left',\n",
    "                                      left_on='movie_id',\n",
    "                                      right_on='movie_id').rename(columns={user_row_number: 'Predictions'}).sort_values(\n",
    "        'Predictions', ascending=False).iloc[:num_recommendations, :-1]\n",
    "\n",
    "    return user_full, recommendations"
   ],
   "outputs": [],
   "execution_count": 29
  },
  {
   "cell_type": "code",
   "metadata": {
    "colab": {
     "base_uri": "https://localhost:8080/"
    },
    "id": "hzz8KwhR_PPD",
    "outputId": "31262e36-c7c6-43ad-8ff5-0e3b2bbacccc",
    "ExecuteTime": {
     "end_time": "2024-06-29T12:37:39.527321Z",
     "start_time": "2024-06-29T12:37:39.515291Z"
    }
   },
   "source": [
    "already_rated, predictions = recommend_movies(preds, 4375, movies, ratings, 20)"
   ],
   "outputs": [
    {
     "name": "stdout",
     "output_type": "stream",
     "text": [
      "User 4375 has already rated 325 movies.\n",
      "Recommending highest 20 predicted ratings movies not already rated.\n"
     ]
    }
   ],
   "execution_count": 30
  },
  {
   "metadata": {
    "ExecuteTime": {
     "end_time": "2024-06-29T12:37:39.532687Z",
     "start_time": "2024-06-29T12:37:39.528392Z"
    }
   },
   "cell_type": "code",
   "source": "predictions[\"title\"].head()",
   "outputs": [
    {
     "data": {
      "text/plain": [
       "1239         Raising Arizona (1987)\n",
       "470     Sleepless in Seattle (1993)\n",
       "1479        Truman Show, The (1998)\n",
       "3073          Grumpy Old Men (1993)\n",
       "1398                 Contact (1997)\n",
       "Name: title, dtype: object"
      ]
     },
     "execution_count": 31,
     "metadata": {},
     "output_type": "execute_result"
    }
   ],
   "execution_count": 31
  },
  {
   "cell_type": "code",
   "metadata": {
    "colab": {
     "base_uri": "https://localhost:8080/",
     "height": 676
    },
    "id": "hwgZ2-RCAOgb",
    "outputId": "758489af-38d3-42f8-ae42-dc3003f9e5b6",
    "ExecuteTime": {
     "end_time": "2024-06-29T12:37:39.540370Z",
     "start_time": "2024-06-29T12:37:39.533206Z"
    }
   },
   "source": [
    "ratings.head(20)"
   ],
   "outputs": [
    {
     "data": {
      "text/plain": [
       "    user_id  movie_id  rating  user_emb_id  movie_emb_id\n",
       "0         1      1193       5            0          1192\n",
       "1         1       661       3            0           660\n",
       "2         1       914       3            0           913\n",
       "3         1      3408       4            0          3407\n",
       "4         1      2355       5            0          2354\n",
       "5         1      1197       3            0          1196\n",
       "6         1      1287       5            0          1286\n",
       "7         1      2804       5            0          2803\n",
       "8         1       594       4            0           593\n",
       "9         1       919       4            0           918\n",
       "10        1       595       5            0           594\n",
       "11        1       938       4            0           937\n",
       "12        1      2398       4            0          2397\n",
       "13        1      2918       4            0          2917\n",
       "14        1      1035       5            0          1034\n",
       "15        1      2791       4            0          2790\n",
       "16        1      2687       3            0          2686\n",
       "17        1      2018       4            0          2017\n",
       "18        1      3105       5            0          3104\n",
       "19        1      2797       4            0          2796"
      ],
      "text/html": [
       "<div>\n",
       "<style scoped>\n",
       "    .dataframe tbody tr th:only-of-type {\n",
       "        vertical-align: middle;\n",
       "    }\n",
       "\n",
       "    .dataframe tbody tr th {\n",
       "        vertical-align: top;\n",
       "    }\n",
       "\n",
       "    .dataframe thead th {\n",
       "        text-align: right;\n",
       "    }\n",
       "</style>\n",
       "<table border=\"1\" class=\"dataframe\">\n",
       "  <thead>\n",
       "    <tr style=\"text-align: right;\">\n",
       "      <th></th>\n",
       "      <th>user_id</th>\n",
       "      <th>movie_id</th>\n",
       "      <th>rating</th>\n",
       "      <th>user_emb_id</th>\n",
       "      <th>movie_emb_id</th>\n",
       "    </tr>\n",
       "  </thead>\n",
       "  <tbody>\n",
       "    <tr>\n",
       "      <th>0</th>\n",
       "      <td>1</td>\n",
       "      <td>1193</td>\n",
       "      <td>5</td>\n",
       "      <td>0</td>\n",
       "      <td>1192</td>\n",
       "    </tr>\n",
       "    <tr>\n",
       "      <th>1</th>\n",
       "      <td>1</td>\n",
       "      <td>661</td>\n",
       "      <td>3</td>\n",
       "      <td>0</td>\n",
       "      <td>660</td>\n",
       "    </tr>\n",
       "    <tr>\n",
       "      <th>2</th>\n",
       "      <td>1</td>\n",
       "      <td>914</td>\n",
       "      <td>3</td>\n",
       "      <td>0</td>\n",
       "      <td>913</td>\n",
       "    </tr>\n",
       "    <tr>\n",
       "      <th>3</th>\n",
       "      <td>1</td>\n",
       "      <td>3408</td>\n",
       "      <td>4</td>\n",
       "      <td>0</td>\n",
       "      <td>3407</td>\n",
       "    </tr>\n",
       "    <tr>\n",
       "      <th>4</th>\n",
       "      <td>1</td>\n",
       "      <td>2355</td>\n",
       "      <td>5</td>\n",
       "      <td>0</td>\n",
       "      <td>2354</td>\n",
       "    </tr>\n",
       "    <tr>\n",
       "      <th>5</th>\n",
       "      <td>1</td>\n",
       "      <td>1197</td>\n",
       "      <td>3</td>\n",
       "      <td>0</td>\n",
       "      <td>1196</td>\n",
       "    </tr>\n",
       "    <tr>\n",
       "      <th>6</th>\n",
       "      <td>1</td>\n",
       "      <td>1287</td>\n",
       "      <td>5</td>\n",
       "      <td>0</td>\n",
       "      <td>1286</td>\n",
       "    </tr>\n",
       "    <tr>\n",
       "      <th>7</th>\n",
       "      <td>1</td>\n",
       "      <td>2804</td>\n",
       "      <td>5</td>\n",
       "      <td>0</td>\n",
       "      <td>2803</td>\n",
       "    </tr>\n",
       "    <tr>\n",
       "      <th>8</th>\n",
       "      <td>1</td>\n",
       "      <td>594</td>\n",
       "      <td>4</td>\n",
       "      <td>0</td>\n",
       "      <td>593</td>\n",
       "    </tr>\n",
       "    <tr>\n",
       "      <th>9</th>\n",
       "      <td>1</td>\n",
       "      <td>919</td>\n",
       "      <td>4</td>\n",
       "      <td>0</td>\n",
       "      <td>918</td>\n",
       "    </tr>\n",
       "    <tr>\n",
       "      <th>10</th>\n",
       "      <td>1</td>\n",
       "      <td>595</td>\n",
       "      <td>5</td>\n",
       "      <td>0</td>\n",
       "      <td>594</td>\n",
       "    </tr>\n",
       "    <tr>\n",
       "      <th>11</th>\n",
       "      <td>1</td>\n",
       "      <td>938</td>\n",
       "      <td>4</td>\n",
       "      <td>0</td>\n",
       "      <td>937</td>\n",
       "    </tr>\n",
       "    <tr>\n",
       "      <th>12</th>\n",
       "      <td>1</td>\n",
       "      <td>2398</td>\n",
       "      <td>4</td>\n",
       "      <td>0</td>\n",
       "      <td>2397</td>\n",
       "    </tr>\n",
       "    <tr>\n",
       "      <th>13</th>\n",
       "      <td>1</td>\n",
       "      <td>2918</td>\n",
       "      <td>4</td>\n",
       "      <td>0</td>\n",
       "      <td>2917</td>\n",
       "    </tr>\n",
       "    <tr>\n",
       "      <th>14</th>\n",
       "      <td>1</td>\n",
       "      <td>1035</td>\n",
       "      <td>5</td>\n",
       "      <td>0</td>\n",
       "      <td>1034</td>\n",
       "    </tr>\n",
       "    <tr>\n",
       "      <th>15</th>\n",
       "      <td>1</td>\n",
       "      <td>2791</td>\n",
       "      <td>4</td>\n",
       "      <td>0</td>\n",
       "      <td>2790</td>\n",
       "    </tr>\n",
       "    <tr>\n",
       "      <th>16</th>\n",
       "      <td>1</td>\n",
       "      <td>2687</td>\n",
       "      <td>3</td>\n",
       "      <td>0</td>\n",
       "      <td>2686</td>\n",
       "    </tr>\n",
       "    <tr>\n",
       "      <th>17</th>\n",
       "      <td>1</td>\n",
       "      <td>2018</td>\n",
       "      <td>4</td>\n",
       "      <td>0</td>\n",
       "      <td>2017</td>\n",
       "    </tr>\n",
       "    <tr>\n",
       "      <th>18</th>\n",
       "      <td>1</td>\n",
       "      <td>3105</td>\n",
       "      <td>5</td>\n",
       "      <td>0</td>\n",
       "      <td>3104</td>\n",
       "    </tr>\n",
       "    <tr>\n",
       "      <th>19</th>\n",
       "      <td>1</td>\n",
       "      <td>2797</td>\n",
       "      <td>4</td>\n",
       "      <td>0</td>\n",
       "      <td>2796</td>\n",
       "    </tr>\n",
       "  </tbody>\n",
       "</table>\n",
       "</div>"
      ]
     },
     "execution_count": 32,
     "metadata": {},
     "output_type": "execute_result"
    }
   ],
   "execution_count": 32
  },
  {
   "cell_type": "code",
   "metadata": {
    "colab": {
     "base_uri": "https://localhost:8080/",
     "height": 676
    },
    "id": "wXy5tpV5_Qu0",
    "outputId": "6490fde7-f208-4c33-f1bd-a4e4ca8979a0",
    "ExecuteTime": {
     "end_time": "2024-06-29T12:37:39.549475Z",
     "start_time": "2024-06-29T12:37:39.541379Z"
    }
   },
   "source": [
    "# Top 20 movies that User 4375 has rated\n",
    "already_rated.head(20)"
   ],
   "outputs": [
    {
     "data": {
      "text/plain": [
       "     user_id  movie_id  rating  user_emb_id  movie_emb_id  \\\n",
       "195     4375      3250       5         4374          3249   \n",
       "285     4375       175       5         4374           174   \n",
       "199     4375      3257       5         4374          3256   \n",
       "65      4375      3809       5         4374          3808   \n",
       "210     4375      2688       5         4374          2687   \n",
       "270     4375       150       5         4374           149   \n",
       "271     4375      2710       5         4374          2709   \n",
       "125     4375       349       5         4374           348   \n",
       "60      4375       288       5         4374           287   \n",
       "141     4375        47       5         4374            46   \n",
       "237     4375      1347       5         4374          1346   \n",
       "57      4375      3499       5         4374          3498   \n",
       "143     4375      1982       5         4374          1981   \n",
       "277     4375       165       5         4374           164   \n",
       "54      4375      1888       5         4374          1887   \n",
       "53      4375       267       5         4374           266   \n",
       "144     4375      1983       5         4374          1982   \n",
       "51      4375       253       5         4374           252   \n",
       "50      4375      2803       5         4374          2802   \n",
       "280     4375      3386       5         4374          3385   \n",
       "\n",
       "                                 title  \\\n",
       "195                       Alive (1993)   \n",
       "285                        Kids (1995)   \n",
       "199              Bodyguard, The (1992)   \n",
       "65              What About Bob? (1991)   \n",
       "210     General's Daughter, The (1999)   \n",
       "270                   Apollo 13 (1995)   \n",
       "271    Blair Witch Project, The (1999)   \n",
       "125    Clear and Present Danger (1994)   \n",
       "60         Natural Born Killers (1994)   \n",
       "141               Seven (Se7en) (1995)   \n",
       "237  Nightmare on Elm Street, A (1984)   \n",
       "57                       Misery (1990)   \n",
       "143                   Halloween (1978)   \n",
       "277  Die Hard: With a Vengeance (1995)   \n",
       "54                  Hope Floats (1998)   \n",
       "53                  Major Payne (1994)   \n",
       "144                Halloween II (1981)   \n",
       "51   Interview with the Vampire (1994)   \n",
       "50           Pelican Brief, The (1993)   \n",
       "280                         JFK (1991)   \n",
       "\n",
       "                                         genres  \n",
       "195                                   ['Drama']  \n",
       "285                                   ['Drama']  \n",
       "199  ['Action', 'Drama', 'Romance', 'Thriller']  \n",
       "65                                   ['Comedy']  \n",
       "210                       ['Drama', 'Thriller']  \n",
       "270                                   ['Drama']  \n",
       "271                                  ['Horror']  \n",
       "125         ['Action', 'Adventure', 'Thriller']  \n",
       "60                       ['Action', 'Thriller']  \n",
       "141                       ['Crime', 'Thriller']  \n",
       "237                                  ['Horror']  \n",
       "57                                   ['Horror']  \n",
       "143                                  ['Horror']  \n",
       "277                      ['Action', 'Thriller']  \n",
       "54               ['Comedy', 'Drama', 'Romance']  \n",
       "53                                   ['Comedy']  \n",
       "144                                  ['Horror']  \n",
       "51                          ['Drama', 'Horror']  \n",
       "50                                 ['Thriller']  \n",
       "280                        ['Drama', 'Mystery']  "
      ],
      "text/html": [
       "<div>\n",
       "<style scoped>\n",
       "    .dataframe tbody tr th:only-of-type {\n",
       "        vertical-align: middle;\n",
       "    }\n",
       "\n",
       "    .dataframe tbody tr th {\n",
       "        vertical-align: top;\n",
       "    }\n",
       "\n",
       "    .dataframe thead th {\n",
       "        text-align: right;\n",
       "    }\n",
       "</style>\n",
       "<table border=\"1\" class=\"dataframe\">\n",
       "  <thead>\n",
       "    <tr style=\"text-align: right;\">\n",
       "      <th></th>\n",
       "      <th>user_id</th>\n",
       "      <th>movie_id</th>\n",
       "      <th>rating</th>\n",
       "      <th>user_emb_id</th>\n",
       "      <th>movie_emb_id</th>\n",
       "      <th>title</th>\n",
       "      <th>genres</th>\n",
       "    </tr>\n",
       "  </thead>\n",
       "  <tbody>\n",
       "    <tr>\n",
       "      <th>195</th>\n",
       "      <td>4375</td>\n",
       "      <td>3250</td>\n",
       "      <td>5</td>\n",
       "      <td>4374</td>\n",
       "      <td>3249</td>\n",
       "      <td>Alive (1993)</td>\n",
       "      <td>['Drama']</td>\n",
       "    </tr>\n",
       "    <tr>\n",
       "      <th>285</th>\n",
       "      <td>4375</td>\n",
       "      <td>175</td>\n",
       "      <td>5</td>\n",
       "      <td>4374</td>\n",
       "      <td>174</td>\n",
       "      <td>Kids (1995)</td>\n",
       "      <td>['Drama']</td>\n",
       "    </tr>\n",
       "    <tr>\n",
       "      <th>199</th>\n",
       "      <td>4375</td>\n",
       "      <td>3257</td>\n",
       "      <td>5</td>\n",
       "      <td>4374</td>\n",
       "      <td>3256</td>\n",
       "      <td>Bodyguard, The (1992)</td>\n",
       "      <td>['Action', 'Drama', 'Romance', 'Thriller']</td>\n",
       "    </tr>\n",
       "    <tr>\n",
       "      <th>65</th>\n",
       "      <td>4375</td>\n",
       "      <td>3809</td>\n",
       "      <td>5</td>\n",
       "      <td>4374</td>\n",
       "      <td>3808</td>\n",
       "      <td>What About Bob? (1991)</td>\n",
       "      <td>['Comedy']</td>\n",
       "    </tr>\n",
       "    <tr>\n",
       "      <th>210</th>\n",
       "      <td>4375</td>\n",
       "      <td>2688</td>\n",
       "      <td>5</td>\n",
       "      <td>4374</td>\n",
       "      <td>2687</td>\n",
       "      <td>General's Daughter, The (1999)</td>\n",
       "      <td>['Drama', 'Thriller']</td>\n",
       "    </tr>\n",
       "    <tr>\n",
       "      <th>270</th>\n",
       "      <td>4375</td>\n",
       "      <td>150</td>\n",
       "      <td>5</td>\n",
       "      <td>4374</td>\n",
       "      <td>149</td>\n",
       "      <td>Apollo 13 (1995)</td>\n",
       "      <td>['Drama']</td>\n",
       "    </tr>\n",
       "    <tr>\n",
       "      <th>271</th>\n",
       "      <td>4375</td>\n",
       "      <td>2710</td>\n",
       "      <td>5</td>\n",
       "      <td>4374</td>\n",
       "      <td>2709</td>\n",
       "      <td>Blair Witch Project, The (1999)</td>\n",
       "      <td>['Horror']</td>\n",
       "    </tr>\n",
       "    <tr>\n",
       "      <th>125</th>\n",
       "      <td>4375</td>\n",
       "      <td>349</td>\n",
       "      <td>5</td>\n",
       "      <td>4374</td>\n",
       "      <td>348</td>\n",
       "      <td>Clear and Present Danger (1994)</td>\n",
       "      <td>['Action', 'Adventure', 'Thriller']</td>\n",
       "    </tr>\n",
       "    <tr>\n",
       "      <th>60</th>\n",
       "      <td>4375</td>\n",
       "      <td>288</td>\n",
       "      <td>5</td>\n",
       "      <td>4374</td>\n",
       "      <td>287</td>\n",
       "      <td>Natural Born Killers (1994)</td>\n",
       "      <td>['Action', 'Thriller']</td>\n",
       "    </tr>\n",
       "    <tr>\n",
       "      <th>141</th>\n",
       "      <td>4375</td>\n",
       "      <td>47</td>\n",
       "      <td>5</td>\n",
       "      <td>4374</td>\n",
       "      <td>46</td>\n",
       "      <td>Seven (Se7en) (1995)</td>\n",
       "      <td>['Crime', 'Thriller']</td>\n",
       "    </tr>\n",
       "    <tr>\n",
       "      <th>237</th>\n",
       "      <td>4375</td>\n",
       "      <td>1347</td>\n",
       "      <td>5</td>\n",
       "      <td>4374</td>\n",
       "      <td>1346</td>\n",
       "      <td>Nightmare on Elm Street, A (1984)</td>\n",
       "      <td>['Horror']</td>\n",
       "    </tr>\n",
       "    <tr>\n",
       "      <th>57</th>\n",
       "      <td>4375</td>\n",
       "      <td>3499</td>\n",
       "      <td>5</td>\n",
       "      <td>4374</td>\n",
       "      <td>3498</td>\n",
       "      <td>Misery (1990)</td>\n",
       "      <td>['Horror']</td>\n",
       "    </tr>\n",
       "    <tr>\n",
       "      <th>143</th>\n",
       "      <td>4375</td>\n",
       "      <td>1982</td>\n",
       "      <td>5</td>\n",
       "      <td>4374</td>\n",
       "      <td>1981</td>\n",
       "      <td>Halloween (1978)</td>\n",
       "      <td>['Horror']</td>\n",
       "    </tr>\n",
       "    <tr>\n",
       "      <th>277</th>\n",
       "      <td>4375</td>\n",
       "      <td>165</td>\n",
       "      <td>5</td>\n",
       "      <td>4374</td>\n",
       "      <td>164</td>\n",
       "      <td>Die Hard: With a Vengeance (1995)</td>\n",
       "      <td>['Action', 'Thriller']</td>\n",
       "    </tr>\n",
       "    <tr>\n",
       "      <th>54</th>\n",
       "      <td>4375</td>\n",
       "      <td>1888</td>\n",
       "      <td>5</td>\n",
       "      <td>4374</td>\n",
       "      <td>1887</td>\n",
       "      <td>Hope Floats (1998)</td>\n",
       "      <td>['Comedy', 'Drama', 'Romance']</td>\n",
       "    </tr>\n",
       "    <tr>\n",
       "      <th>53</th>\n",
       "      <td>4375</td>\n",
       "      <td>267</td>\n",
       "      <td>5</td>\n",
       "      <td>4374</td>\n",
       "      <td>266</td>\n",
       "      <td>Major Payne (1994)</td>\n",
       "      <td>['Comedy']</td>\n",
       "    </tr>\n",
       "    <tr>\n",
       "      <th>144</th>\n",
       "      <td>4375</td>\n",
       "      <td>1983</td>\n",
       "      <td>5</td>\n",
       "      <td>4374</td>\n",
       "      <td>1982</td>\n",
       "      <td>Halloween II (1981)</td>\n",
       "      <td>['Horror']</td>\n",
       "    </tr>\n",
       "    <tr>\n",
       "      <th>51</th>\n",
       "      <td>4375</td>\n",
       "      <td>253</td>\n",
       "      <td>5</td>\n",
       "      <td>4374</td>\n",
       "      <td>252</td>\n",
       "      <td>Interview with the Vampire (1994)</td>\n",
       "      <td>['Drama', 'Horror']</td>\n",
       "    </tr>\n",
       "    <tr>\n",
       "      <th>50</th>\n",
       "      <td>4375</td>\n",
       "      <td>2803</td>\n",
       "      <td>5</td>\n",
       "      <td>4374</td>\n",
       "      <td>2802</td>\n",
       "      <td>Pelican Brief, The (1993)</td>\n",
       "      <td>['Thriller']</td>\n",
       "    </tr>\n",
       "    <tr>\n",
       "      <th>280</th>\n",
       "      <td>4375</td>\n",
       "      <td>3386</td>\n",
       "      <td>5</td>\n",
       "      <td>4374</td>\n",
       "      <td>3385</td>\n",
       "      <td>JFK (1991)</td>\n",
       "      <td>['Drama', 'Mystery']</td>\n",
       "    </tr>\n",
       "  </tbody>\n",
       "</table>\n",
       "</div>"
      ]
     },
     "execution_count": 33,
     "metadata": {},
     "output_type": "execute_result"
    }
   ],
   "execution_count": 33
  },
  {
   "cell_type": "markdown",
   "metadata": {
    "id": "t5g9DqGv00wK"
   },
   "source": [
    "#### Evaluation"
   ]
  },
  {
   "cell_type": "code",
   "metadata": {
    "colab": {
     "base_uri": "https://localhost:8080/"
    },
    "id": "XL1O76fF4w-D",
    "outputId": "f632c245-fea9-4eb9-f375-6458c7b49b97",
    "ExecuteTime": {
     "end_time": "2024-06-29T12:38:14.962962Z",
     "start_time": "2024-06-29T12:37:39.550500Z"
    }
   },
   "source": [
    "from sklearn.model_selection import train_test_split\n",
    "from sklearn.metrics import mean_squared_error\n",
    "from math import sqrt\n",
    "\n",
    "# TODO\n",
    "train_data, test_data = train_test_split(ratings, test_size=0.3)\n",
    "# TODO\n",
    "train_ratings = train_data.pivot(index='user_id', columns='movie_id', values='rating').fillna(0)\n",
    "R_train = train_ratings.values\n",
    "\n",
    "# TODO\n",
    "user_ratings_mean_train = mean\n",
    "\n",
    "Ratings_demeaned_train = R_train - user_ratings_mean_train.reshape(-1, 1)\n",
    "\n",
    "# TODO\n",
    "U_train, sigma_train, Vt_train = np.linalg.svd(R_train, full_matrices=False)\n",
    "sigma_train = np.diag(sigma_train)\n",
    "\n",
    "# TODO\n",
    "all_user_predicted_ratings_train = (U_train @ sigma_train) @ Vt_train\n",
    "\n",
    "# TODO\n",
    "preds_train = pd.DataFrame(all_user_predicted_ratings_train, columns=train_ratings.columns)\n",
    "\n",
    "\n",
    "def predict_rating(user_id, movie_id):\n",
    "    # TODO\n",
    "    if movie_id not in preds_train.columns: return np.mean(preds_train.values)\n",
    "    user_idx = train_ratings.index.get_loc(user_id)\n",
    "    movie_idx = preds_train.columns.get_loc(movie_id)\n",
    "    return preds_train.iloc[user_idx, movie_idx]\n",
    "\n",
    "\n",
    "test_data['predicted_rating'] = test_data.apply(lambda x: predict_rating(x['user_id'], x['movie_id']), axis=1)\n",
    "\n",
    "test_data.dropna(inplace=True)\n",
    "\n",
    "rmse = sqrt(mean_squared_error(test_data['rating'], test_data['predicted_rating']))\n",
    "print(f'Root Mean Squared Error: {rmse}')\n"
   ],
   "outputs": [
    {
     "name": "stdout",
     "output_type": "stream",
     "text": [
      "Root Mean Squared Error: 3.7523596131687684\n"
     ]
    }
   ],
   "execution_count": 34
  },
  {
   "cell_type": "markdown",
   "metadata": {
    "id": "ASbIipkUgPuh"
   },
   "source": [
    "### Nueral Network Model (Recommender Model)\n",
    "\n"
   ]
  },
  {
   "cell_type": "markdown",
   "metadata": {
    "id": "eOTExLKq3dIl"
   },
   "source": [
    "**Objective**: Implement a Recommender model to recommend movies to a user based on similar users' preferences.\n",
    "\n",
    "**Dataset**:\n",
    "- **Ratings Data**: DataFrame with columns `user_id`, `movie_id`, and `rating`.\n",
    "- **Movies Data**: DataFrame with columns `movie_id`, `title`, and `genres`.\n",
    "\n",
    "**Steps**:\n",
    "\n",
    "1. **Define Dataset and DataLoader**:\n",
    "   - Create a custom PyTorch `Dataset` for ratings.\n",
    "   - Create a DataLoader for batching and shuffling data.\n",
    "\n",
    "2. **Define the Neural Network**:\n",
    "   - Create a neural network with embedding layers for users and movies.\n",
    "\n",
    "3. **Train the Model**:\n",
    "   - Train the model using Mean Squared Error loss and Adam optimizer.\n",
    "   - Save model checkpoints.\n",
    "\n",
    "4. **Evaluate the Model**:\n",
    "   - Calculate RMSE on the entire dataset.\n",
    "\n",
    "5. **Predict Ratings for Unrated Movies**:\n",
    "   - Predict and recommend top 10 unrated movies for a given user."
   ]
  },
  {
   "cell_type": "code",
   "metadata": {
    "id": "7eiOWdgZQIeb",
    "ExecuteTime": {
     "end_time": "2024-06-29T12:39:32.829491Z",
     "start_time": "2024-06-29T12:39:28.022361Z"
    }
   },
   "source": [
    "from torch.utils.data import Dataset, DataLoader\n",
    "import torch\n",
    "import torch.nn as nn\n",
    "\n",
    "from tqdm import tqdm"
   ],
   "outputs": [],
   "execution_count": 37
  },
  {
   "cell_type": "code",
   "metadata": {
    "id": "uBgFFkt16-IO",
    "ExecuteTime": {
     "end_time": "2024-06-29T12:40:16.022578Z",
     "start_time": "2024-06-29T12:39:52.355854Z"
    }
   },
   "source": [
    "# Define the dataset\n",
    "class RatingsDataset(Dataset):\n",
    "    def __init__(self, ratings):\n",
    "        #TODO\n",
    "        self.ratings = ratings\n",
    "\n",
    "    def __len__(self):\n",
    "        #TODO\n",
    "        return len(self.ratings)\n",
    "\n",
    "    def __getitem__(self, idx):\n",
    "        #TODO\n",
    "        user = torch.tensor(self.ratings.iloc[idx]['user_id'], dtype=torch.long)\n",
    "        movie = torch.tensor(self.ratings.iloc[idx]['movie_id'], dtype=torch.long)\n",
    "        rating = torch.tensor(self.ratings.iloc[idx]['rating'], dtype=torch.float32)\n",
    "        return user, movie, rating\n",
    "\n",
    "\n",
    "# Define the neural network\n",
    "class RecommenderNet(nn.Module):\n",
    "    def __init__(self, num_users, num_movies, embedding_size=50):\n",
    "        super(RecommenderNet, self).__init__()\n",
    "        # TODO \n",
    "        self.user_embedding = nn.Embedding(num_users, embedding_size)\n",
    "        self.movie_embedding = nn.Embedding(num_movies, embedding_size)\n",
    "\n",
    "        input_size = embedding_size * 2\n",
    "\n",
    "        # can be changed!\n",
    "        fc_hidden_size = [128, 64]\n",
    "        dropout_p = 0.2\n",
    "\n",
    "        layers = []\n",
    "        for hidden_size in fc_hidden_size:\n",
    "            layers.append(nn.Linear(input_size, hidden_size))\n",
    "            layers.append(nn.ReLU())\n",
    "            layers.append(nn.Dropout(p=dropout_p))\n",
    "            input_size = hidden_size\n",
    "        layers.append(nn.Linear(input_size, 1))\n",
    "\n",
    "        self.fc_layers = nn.Sequential(*layers)\n",
    "\n",
    "    def forward(self, user_indices, movie_indices):\n",
    "        # TODO \n",
    "        return self.fc_layers(\n",
    "            torch.cat([self.user_embedding(user_indices), self.movie_embedding(movie_indices)], dim=1)).squeeze()\n",
    "\n",
    "\n",
    "device = torch.device(\"cuda\" if torch.cuda.is_available() else \"cpu\")\n",
    "\n",
    "# Create the dataset and dataloader\n",
    "#train_ratio = 0.7\n",
    "train_ratio = 0.01\n",
    "split = int(len(ratings) * train_ratio)\n",
    "\n",
    "batch_size = 32\n",
    "train_loader = DataLoader(RatingsDataset(ratings[:split]), batch_size=batch_size, shuffle=True)\n",
    "test_loader = DataLoader(RatingsDataset(ratings[int(len(ratings) * 0.99):]), batch_size=batch_size, shuffle=False)\n",
    "#test_loader = DataLoader(RatingsDataset(ratings[split:]), batch_size=batch_size, shuffle=False)\n",
    "\n",
    "# Initialize the model, loss function and optimizer\n",
    "model = RecommenderNet(ratings[\"user_id\"].max() + 1, ratings[\"movie_id\"].max() + 1).to(device)\n",
    "criterion = nn.MSELoss()\n",
    "optimizer = torch.optim.Adam(model.parameters(), lr=0.001)\n",
    "\n",
    "\n",
    "# Training loop\n",
    "def train_model(model, train_loader, optimizer, criterion, device):\n",
    "    model.train()\n",
    "    epoch_loss = 0\n",
    "    for batch in tqdm(train_loader):\n",
    "        u, m, r = batch\n",
    "        user, movie, rating = u.to(device), m.to(device), r.to(device)\n",
    "        optimizer.zero_grad()\n",
    "        predictions = model(user, movie)\n",
    "        loss = criterion(predictions, rating)\n",
    "        loss.backward()\n",
    "        optimizer.step()\n",
    "        epoch_loss += loss.item()\n",
    "    return epoch_loss / len(train_loader)\n",
    "\n",
    "\n",
    "# Evaluation\n",
    "def evaluate_model(model, data_loader, criterion, device):\n",
    "    model.eval()\n",
    "    total_loss = 0\n",
    "    with torch.no_grad():\n",
    "        for batch in data_loader:\n",
    "            u, m, r = batch\n",
    "            user, movie, rating = u.to(device), m.to(device), r.to(device)\n",
    "            predictions = model(user, movie)\n",
    "            loss = criterion(predictions, rating)\n",
    "            total_loss += loss.item()\n",
    "    return total_loss / len(data_loader)\n",
    "\n",
    "\n",
    "num_epochs = 10\n",
    "for epoch in range(num_epochs):\n",
    "    train_loss = train_model(model, train_loader, optimizer, criterion, device)\n",
    "    print(f\"Epoch {epoch + 1}, Train Loss: {train_loss}\")\n",
    "\n",
    "test_loss = evaluate_model(model, test_loader, criterion, device)\n",
    "print(\"\\n\\n\" + \"-------\" * 20)\n",
    "print(f\"Test Loss: {test_loss}\")"
   ],
   "outputs": [
    {
     "name": "stderr",
     "output_type": "stream",
     "text": [
      "100%|██████████| 313/313 [00:02<00:00, 146.25it/s]\n"
     ]
    },
    {
     "name": "stdout",
     "output_type": "stream",
     "text": [
      "Epoch 1, Train Loss: 1.8492779474669752\n"
     ]
    },
    {
     "name": "stderr",
     "output_type": "stream",
     "text": [
      "100%|██████████| 313/313 [00:01<00:00, 157.24it/s]\n"
     ]
    },
    {
     "name": "stdout",
     "output_type": "stream",
     "text": [
      "Epoch 2, Train Loss: 1.1407978017680562\n"
     ]
    },
    {
     "name": "stderr",
     "output_type": "stream",
     "text": [
      "100%|██████████| 313/313 [00:02<00:00, 155.03it/s]\n"
     ]
    },
    {
     "name": "stdout",
     "output_type": "stream",
     "text": [
      "Epoch 3, Train Loss: 1.0774860366845664\n"
     ]
    },
    {
     "name": "stderr",
     "output_type": "stream",
     "text": [
      "100%|██████████| 313/313 [00:02<00:00, 152.58it/s]\n"
     ]
    },
    {
     "name": "stdout",
     "output_type": "stream",
     "text": [
      "Epoch 4, Train Loss: 1.0186685677915335\n"
     ]
    },
    {
     "name": "stderr",
     "output_type": "stream",
     "text": [
      "100%|██████████| 313/313 [00:02<00:00, 143.98it/s]\n"
     ]
    },
    {
     "name": "stdout",
     "output_type": "stream",
     "text": [
      "Epoch 5, Train Loss: 0.9671047262299937\n"
     ]
    },
    {
     "name": "stderr",
     "output_type": "stream",
     "text": [
      "100%|██████████| 313/313 [00:02<00:00, 144.26it/s]\n"
     ]
    },
    {
     "name": "stdout",
     "output_type": "stream",
     "text": [
      "Epoch 6, Train Loss: 0.9405257429558629\n"
     ]
    },
    {
     "name": "stderr",
     "output_type": "stream",
     "text": [
      "100%|██████████| 313/313 [00:01<00:00, 158.27it/s]\n"
     ]
    },
    {
     "name": "stdout",
     "output_type": "stream",
     "text": [
      "Epoch 7, Train Loss: 0.8777290561709541\n"
     ]
    },
    {
     "name": "stderr",
     "output_type": "stream",
     "text": [
      "100%|██████████| 313/313 [00:02<00:00, 148.60it/s]\n"
     ]
    },
    {
     "name": "stdout",
     "output_type": "stream",
     "text": [
      "Epoch 8, Train Loss: 0.8493731630305512\n"
     ]
    },
    {
     "name": "stderr",
     "output_type": "stream",
     "text": [
      "100%|██████████| 313/313 [00:02<00:00, 154.53it/s]\n"
     ]
    },
    {
     "name": "stdout",
     "output_type": "stream",
     "text": [
      "Epoch 9, Train Loss: 0.8185475683821657\n"
     ]
    },
    {
     "name": "stderr",
     "output_type": "stream",
     "text": [
      "100%|██████████| 313/313 [00:02<00:00, 153.69it/s]\n"
     ]
    },
    {
     "name": "stdout",
     "output_type": "stream",
     "text": [
      "Epoch 10, Train Loss: 0.7789939880942385\n",
      "\n",
      "\n",
      "--------------------------------------------------------------------------------------------------------------------------------------------\n",
      "Test Loss: 1.1904792669482125\n"
     ]
    }
   ],
   "execution_count": 39
  },
  {
   "cell_type": "code",
   "metadata": {
    "id": "CjU9mSxz0e0i",
    "ExecuteTime": {
     "end_time": "2024-06-29T12:40:16.041315Z",
     "start_time": "2024-06-29T12:40:16.023376Z"
    }
   },
   "source": [
    "# Example\n",
    "\n",
    "sample_user_id = 1\n",
    "sample_user_data = ratings[ratings['user_id'] == sample_user_id]\n",
    "sample_dataset = RatingsDataset(sample_user_data)\n",
    "sample_dataloader = DataLoader(sample_dataset, batch_size=1, shuffle=False)\n",
    "\n",
    "print(f'Sample predictions for user ID {sample_user_id}:')\n",
    "with torch.no_grad():\n",
    "    for batch in sample_dataloader:\n",
    "        user = batch[0]\n",
    "        movie = batch[1]\n",
    "        rating = batch[2]\n",
    "        output = model(user, movie).squeeze()\n",
    "        print(f'Movie ID: {movie.item()}, Predicted Rating: {output.item()}, Actual Rating: {rating.item()}')\n",
    "\n",
    "    \"\"\"for user, movie, rating in sample_dataloader:\n",
    "        output = model(user, movie).squeeze()\n",
    "        print(f'Movie ID: {movie.item()}, Predicted Rating: {output.item()}, Actual Rating: {rating.item()}')\"\"\""
   ],
   "outputs": [
    {
     "name": "stdout",
     "output_type": "stream",
     "text": [
      "Sample predictions for user ID 1:\n",
      "Movie ID: 1193, Predicted Rating: 4.857653617858887, Actual Rating: 5.0\n",
      "Movie ID: 661, Predicted Rating: 3.5038957595825195, Actual Rating: 3.0\n",
      "Movie ID: 914, Predicted Rating: 4.379845142364502, Actual Rating: 3.0\n",
      "Movie ID: 3408, Predicted Rating: 3.72200870513916, Actual Rating: 4.0\n",
      "Movie ID: 2355, Predicted Rating: 4.145700454711914, Actual Rating: 5.0\n",
      "Movie ID: 1197, Predicted Rating: 4.477250099182129, Actual Rating: 3.0\n",
      "Movie ID: 1287, Predicted Rating: 4.239933490753174, Actual Rating: 5.0\n",
      "Movie ID: 2804, Predicted Rating: 4.040605068206787, Actual Rating: 5.0\n",
      "Movie ID: 594, Predicted Rating: 4.808008193969727, Actual Rating: 4.0\n",
      "Movie ID: 919, Predicted Rating: 4.741500377655029, Actual Rating: 4.0\n",
      "Movie ID: 595, Predicted Rating: 3.591365337371826, Actual Rating: 5.0\n",
      "Movie ID: 938, Predicted Rating: 4.0818328857421875, Actual Rating: 4.0\n",
      "Movie ID: 2398, Predicted Rating: 4.131997585296631, Actual Rating: 4.0\n",
      "Movie ID: 2918, Predicted Rating: 3.966601848602295, Actual Rating: 4.0\n",
      "Movie ID: 1035, Predicted Rating: 4.397280693054199, Actual Rating: 5.0\n",
      "Movie ID: 2791, Predicted Rating: 4.3566741943359375, Actual Rating: 4.0\n",
      "Movie ID: 2687, Predicted Rating: 3.5714006423950195, Actual Rating: 3.0\n",
      "Movie ID: 2018, Predicted Rating: 4.232474327087402, Actual Rating: 4.0\n",
      "Movie ID: 3105, Predicted Rating: 4.604192733764648, Actual Rating: 5.0\n",
      "Movie ID: 2797, Predicted Rating: 4.325668811798096, Actual Rating: 4.0\n",
      "Movie ID: 2321, Predicted Rating: 3.8735079765319824, Actual Rating: 3.0\n",
      "Movie ID: 720, Predicted Rating: 3.978177070617676, Actual Rating: 3.0\n",
      "Movie ID: 1270, Predicted Rating: 4.893353462219238, Actual Rating: 5.0\n",
      "Movie ID: 527, Predicted Rating: 4.591564178466797, Actual Rating: 5.0\n",
      "Movie ID: 2340, Predicted Rating: 3.4744696617126465, Actual Rating: 3.0\n",
      "Movie ID: 48, Predicted Rating: 4.048897743225098, Actual Rating: 5.0\n",
      "Movie ID: 1097, Predicted Rating: 4.129156112670898, Actual Rating: 4.0\n",
      "Movie ID: 1721, Predicted Rating: 4.253465175628662, Actual Rating: 4.0\n",
      "Movie ID: 1545, Predicted Rating: 3.7864246368408203, Actual Rating: 4.0\n",
      "Movie ID: 745, Predicted Rating: 4.346991062164307, Actual Rating: 3.0\n",
      "Movie ID: 2294, Predicted Rating: 3.7940239906311035, Actual Rating: 4.0\n",
      "Movie ID: 3186, Predicted Rating: 3.512474536895752, Actual Rating: 4.0\n",
      "Movie ID: 1566, Predicted Rating: 3.2821595668792725, Actual Rating: 4.0\n",
      "Movie ID: 588, Predicted Rating: 3.990229845046997, Actual Rating: 4.0\n",
      "Movie ID: 1907, Predicted Rating: 3.421259641647339, Actual Rating: 4.0\n",
      "Movie ID: 783, Predicted Rating: 3.9684970378875732, Actual Rating: 4.0\n",
      "Movie ID: 1836, Predicted Rating: 4.4568939208984375, Actual Rating: 5.0\n",
      "Movie ID: 1022, Predicted Rating: 4.3380560874938965, Actual Rating: 5.0\n",
      "Movie ID: 2762, Predicted Rating: 3.7712626457214355, Actual Rating: 4.0\n",
      "Movie ID: 150, Predicted Rating: 4.292960166931152, Actual Rating: 5.0\n",
      "Movie ID: 1, Predicted Rating: 4.952546119689941, Actual Rating: 5.0\n",
      "Movie ID: 1961, Predicted Rating: 4.66813850402832, Actual Rating: 5.0\n",
      "Movie ID: 1962, Predicted Rating: 3.8515405654907227, Actual Rating: 4.0\n",
      "Movie ID: 2692, Predicted Rating: 4.384552001953125, Actual Rating: 4.0\n",
      "Movie ID: 260, Predicted Rating: 4.4131011962890625, Actual Rating: 4.0\n",
      "Movie ID: 1028, Predicted Rating: 4.353264808654785, Actual Rating: 5.0\n",
      "Movie ID: 1029, Predicted Rating: 4.772378921508789, Actual Rating: 5.0\n",
      "Movie ID: 1207, Predicted Rating: 4.064765453338623, Actual Rating: 4.0\n",
      "Movie ID: 2028, Predicted Rating: 4.900580406188965, Actual Rating: 5.0\n",
      "Movie ID: 531, Predicted Rating: 3.8368492126464844, Actual Rating: 4.0\n",
      "Movie ID: 3114, Predicted Rating: 4.201670169830322, Actual Rating: 4.0\n",
      "Movie ID: 608, Predicted Rating: 4.103960037231445, Actual Rating: 4.0\n",
      "Movie ID: 1246, Predicted Rating: 4.458293914794922, Actual Rating: 4.0\n"
     ]
    }
   ],
   "execution_count": 40
  },
  {
   "cell_type": "code",
   "metadata": {
    "colab": {
     "base_uri": "https://localhost:8080/"
    },
    "id": "94kou8gVluPq",
    "outputId": "f2cd7975-dc1e-4033-b6d6-b25f7f207f1c",
    "ExecuteTime": {
     "end_time": "2024-06-29T12:40:16.323801Z",
     "start_time": "2024-06-29T12:40:16.041315Z"
    }
   },
   "source": [
    "def predict_unrated_movies(user_id, model, ratings, movies):\n",
    "    rated_movies = ratings[ratings['user_id'] == user_id]['movie_id'].unique()\n",
    "    unrated_movies = movies[~movies['movie_id'].isin(rated_movies)]\n",
    "\n",
    "    predictions = []\n",
    "    model.eval()\n",
    "\n",
    "    with torch.no_grad():\n",
    "        user_tensor = torch.tensor([user_id] * len(unrated_movies), dtype=torch.long).to(device)\n",
    "        movies_tensor = torch.tensor(unrated_movies['movie_id'].values, dtype=torch.long).to(device)\n",
    "        for i in range(len(unrated_movies)):\n",
    "            movie_id = movies_tensor[i]\n",
    "            prediction = model(user_tensor[i:i + 1], movies_tensor[i:i + 1]).item()\n",
    "            predictions.append((int(movie_id), prediction))\n",
    "\n",
    "    predictions_df = pd.DataFrame(predictions, columns=['movie_id', 'predicted_rating'])\n",
    "    predictions_df = predictions_df.merge(movies.astype({'movie_id': 'int64'}), on='movie_id')\n",
    "    return predictions_df.sort_values('predicted_rating', ascending=False)\n",
    "\n",
    "\n",
    "# Example\n",
    "user_id = 1\n",
    "predictions = predict_unrated_movies(user_id, model, ratings, movies)\n",
    "print(predictions)\n"
   ],
   "outputs": [
    {
     "name": "stdout",
     "output_type": "stream",
     "text": [
      "      movie_id  predicted_rating                                 title  \\\n",
      "672        692          5.627703                           Solo (1996)   \n",
      "1843      1945          5.360166              On the Waterfront (1954)   \n",
      "1494      1563          5.319363          Dream With the Fishes (1997)   \n",
      "1092      1130          5.295369                   Howling, The (1980)   \n",
      "3232      3353          5.292766            Closer You Get, The (2000)   \n",
      "...        ...               ...                                   ...   \n",
      "1452      1515          2.568870                        Volcano (1997)   \n",
      "52          55          2.508218                        Georgia (1995)   \n",
      "893        921          2.507611               My Favorite Year (1982)   \n",
      "1676      1760          2.489774                    Spice World (1997)   \n",
      "3697      3820          2.482506  Thomas and the Magic Railroad (2000)   \n",
      "\n",
      "                                genres  \n",
      "672   ['Action', 'Sci-Fi', 'Thriller']  \n",
      "1843                ['Crime', 'Drama']  \n",
      "1494                         ['Drama']  \n",
      "1092                        ['Horror']  \n",
      "3232             ['Comedy', 'Romance']  \n",
      "...                                ...  \n",
      "1452             ['Drama', 'Thriller']  \n",
      "52                           ['Drama']  \n",
      "893                         ['Comedy']  \n",
      "1676             ['Comedy', 'Musical']  \n",
      "3697                    [\"Children's\"]  \n",
      "\n",
      "[3830 rows x 4 columns]\n"
     ]
    }
   ],
   "execution_count": 41
  },
  {
   "cell_type": "markdown",
   "metadata": {
    "id": "at9-Uddo0sB8"
   },
   "source": [
    "### GMM (Gaussian Mixture Model)"
   ]
  },
  {
   "cell_type": "markdown",
   "metadata": {
    "id": "GhT3dnRv3hAc"
   },
   "source": [
    "**Objective**: Use a Gaussian Mixture Model to analyze and cluster the click data based on the number of clicks from different locations, aiming to identify distinct patterns of user behavior across 10 countries.\n",
    "\n",
    "**Dataset**:\n",
    "- **Click Data**: DataFrame with columns `link_id`, `location`, and `number_of_clicks`.\n",
    "\n",
    "**Steps**:\n",
    "\n",
    "1. **Preprocess Data**:\n",
    "   - Ensure the dataset contains 10 distinct countries.\n",
    "   - Create a matrix where rows represent different links and columns represent the number of clicks from each country.\n",
    "   - Normalize the number of clicks to account for different scales.\n",
    "\n",
    "2. **Fit GMM**:\n",
    "   - Apply a Gaussian Mixture Model (GMM) to the click data matrix to identify clusters of links with similar click patterns across different countries.\n",
    "\n",
    "3. **Evaluate Model**:\n",
    "   - Analyze the resulting model by calculating the log lokelihood, BIC and AIC metrics.\n"
   ]
  },
  {
   "cell_type": "code",
   "metadata": {
    "id": "Ug6I8y2lx55u",
    "ExecuteTime": {
     "end_time": "2024-06-29T12:38:16.741548Z",
     "start_time": "2024-06-29T12:38:14.962962Z"
    }
   },
   "source": [
    "from sklearn.preprocessing import MinMaxScaler\n",
    "import pandas as pd\n",
    "import numpy as np\n",
    "from sklearn.mixture import GaussianMixture\n",
    "import matplotlib.pyplot as plt\n",
    "\n",
    "# TODO\n",
    "file_path = \"gmm-dataset.csv\"\n",
    "df = pd.read_csv(file_path)\n",
    "\n",
    "# TODO\n",
    "\n",
    "c = df[\n",
    "    ['United States', 'China', 'India', 'Japan', 'Brazil', 'Russia', 'Indonesia', 'Germany', 'United Kingdom',\n",
    "     'France']]\n",
    "\n",
    "# or use StandardScaler()\n",
    "c_norm = MinMaxScaler().fit_transform(c)\n",
    "\n",
    "# THERE WILL BE A CELL FOR HOW DID I CHOOSE NUMBER OF COMPONENTS\n",
    "gmm = GaussianMixture(n_components=12, random_state=0)\n",
    "gmm.fit(c_norm)\n",
    "\n",
    "# TODO\n",
    "log_likelihood = gmm.score(c_norm)\n",
    "\n",
    "# TODO\n",
    "bic = gmm.bic(c_norm)\n",
    "\n",
    "# TODO\n",
    "aic = gmm.aic(c_norm)\n",
    "\n",
    "print(f\"Log-Likelihood: {log_likelihood}\")\n",
    "print(f\"BIC: {bic}\")\n",
    "print(f\"AIC: {aic}\")\n"
   ],
   "outputs": [
    {
     "name": "stdout",
     "output_type": "stream",
     "text": [
      "Log-Likelihood: 14.950194667529\n",
      "BIC: 652.6506836107801\n",
      "AIC: -1408.0389335058003\n"
     ]
    }
   ],
   "execution_count": 35
  },
  {
   "metadata": {
    "ExecuteTime": {
     "end_time": "2024-06-29T12:38:19.636724Z",
     "start_time": "2024-06-29T12:38:16.741548Z"
    }
   },
   "cell_type": "code",
   "source": [
    "n_clusters_range = range(1, 20)\n",
    "bics = []\n",
    "aics = []\n",
    "\n",
    "for n_clusters in n_clusters_range:\n",
    "    gmm = GaussianMixture(n_components=n_clusters, random_state=0)\n",
    "    gmm.fit(c_norm)\n",
    "    bics.append(gmm.bic(c_norm))\n",
    "    aics.append(gmm.aic(c_norm))\n",
    "\n",
    "plt.plot(n_clusters_range, bics, label='BIC', marker='o')\n",
    "plt.plot(n_clusters_range, aics, label='AIC', marker='o')\n",
    "plt.xlabel('number of Clusters')\n",
    "plt.ylabel('score')\n",
    "plt.legend()\n",
    "plt.show()\n",
    "\n",
    "# I don't want to make the clusters too big , so I will pick 13\n",
    "# but the lower the BIC and AIC the better!"
   ],
   "outputs": [
    {
     "data": {
      "text/plain": [
       "<Figure size 640x480 with 1 Axes>"
      ],
      "image/png": "[encoded data removed]"
     },
     "metadata": {},
     "output_type": "display_data"
    }
   ],
   "execution_count": 36
  }
 ],
 "metadata": {
  "colab": {
   "collapsed_sections": [
    "ASbIipkUgPuh",
    "at9-Uddo0sB8"
   ],
   "gpuType": "T4",
   "provenance": []
  },
  "kernelspec": {
   "display_name": "Python 3 (ipykernel)",
   "name": "python3",
   "language": "python"
  },
  "language_info": {
   "name": "python"
  }
 },
 "nbformat": 4,
 "nbformat_minor": 0
}
